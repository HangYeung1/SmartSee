{
 "cells": [
  {
   "attachments": {},
   "cell_type": "markdown",
   "metadata": {},
   "source": [
    "### **Training yolov5 on QMUL-OpenLogo**\n",
    "**NOTE:** Make sure to run `prepare-dataset.ipynb` first.\n",
    "This notebook should\n",
    "- Create openlogo.yaml"
   ]
  },
  {
   "cell_type": "code",
   "execution_count": 6,
   "metadata": {},
   "outputs": [],
   "source": [
    "import os"
   ]
  },
  {
   "cell_type": "code",
   "execution_count": 10,
   "metadata": {},
   "outputs": [],
   "source": [
    "# Create openlogo.yaml\n",
    "yaml = '''path: ../datasets/openlogo\n",
    "train: images/train\n",
    "val: images/test\n",
    "test:\n",
    "\n",
    "names:'''\n",
    "\n",
    "class_id_file = 'datasets/openlogo/details/class-id-map.txt'\n",
    "class_ids = open(class_id_file, 'r').read().split('\\n')\n",
    "class_ids.pop()\n",
    "\n",
    "for class_id in class_ids:\n",
    "    yaml += '\\n  {}'.format(class_id)\n",
    "\n",
    "print(yaml, file=open('yolov5/data/openlogo.yaml', 'w'))"
   ]
  },
  {
   "cell_type": "code",
   "execution_count": null,
   "metadata": {},
   "outputs": [],
   "source": [
    "!cd yolov5\n",
    "!python train.py --data openlogo.yaml --weights yolov5s.pt --img 640 --batch-size -1 --epochs 100 --cache ram"
   ]
  },
  {
   "cell_type": "code",
   "execution_count": null,
   "metadata": {},
   "outputs": [],
   "source": [
    "!cd yolov5\n",
    "!python train.py --resume"
   ]
  }
 ],
 "metadata": {
  "kernelspec": {
   "display_name": "cs231n",
   "language": "python",
   "name": "python3"
  },
  "language_info": {
   "codemirror_mode": {
    "name": "ipython",
    "version": 3
   },
   "file_extension": ".py",
   "mimetype": "text/x-python",
   "name": "python",
   "nbconvert_exporter": "python",
   "pygments_lexer": "ipython3",
   "version": "3.7.11"
  },
  "orig_nbformat": 4,
  "vscode": {
   "interpreter": {
    "hash": "ce1e2dc1913f4067280215715469665255d604b1ffc918ef8c9d65aee97a3e85"
   }
  }
 },
 "nbformat": 4,
 "nbformat_minor": 2
}
