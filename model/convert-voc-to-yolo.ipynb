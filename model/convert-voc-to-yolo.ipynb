{
 "cells": [
  {
   "attachments": {},
   "cell_type": "markdown",
   "metadata": {},
   "source": [
    "**Converting QMUL-OpenLogo Dataset for yolov7**\n",
    "1. Download the QMUL-OpenLogo dataset from [here](https://hangsu0730.github.io/qmul-openlogo/)\n",
    "2. Extract openlogo folder and place in `model`\n",
    "3. Run this notebook\n",
    "\n",
    "This notebook should\n",
    "- Create `model/dataset` directory with all images and labels of QMUL-OpenLogo in yolo format\n",
    "- Contain 27,083 images and 352 logo classes\n",
    "- Create `details/class-list.txt` and `details/class-id-map.txt`\n",
    "- Delete leftover `model/openlogo` directory"
   ]
  },
  {
   "cell_type": "code",
   "execution_count": 4,
   "metadata": {},
   "outputs": [],
   "source": [
    "import xml.etree.ElementTree as et\n",
    "import os\n",
    "import shutil\n",
    "import math"
   ]
  },
  {
   "cell_type": "code",
   "execution_count": 5,
   "metadata": {},
   "outputs": [],
   "source": [
    "def extract_from_xml(xml_file):\n",
    "    root = et.parse(xml_file).getroot()\n",
    "\n",
    "    # Initialize info dict\n",
    "    annotation_dict = {}\n",
    "    annotation_dict['bnboxes'] = []\n",
    "\n",
    "    # Parse XML Tree\n",
    "    for elem in root:\n",
    "        # Get file name\n",
    "        if elem.tag == 'filename':\n",
    "            annotation_dict['filename'] = elem.text\n",
    "\n",
    "        # Get image size\n",
    "        elif elem.tag == 'size':\n",
    "            image_size = {}\n",
    "            for subelem in elem:\n",
    "                image_size[subelem.tag] = int(subelem.text)\n",
    "            annotation_dict['size'] = image_size\n",
    "\n",
    "        # Add bounding box(es)\n",
    "        elif elem.tag == 'object':\n",
    "            bnbox = {}\n",
    "            for subelem in elem:\n",
    "                if subelem.tag == 'name':\n",
    "                    bnbox['class'] = subelem.text\n",
    "\n",
    "                elif subelem.tag == 'bndbox':\n",
    "                    for subsubelem in subelem:\n",
    "                        bnbox[subsubelem.tag] = int(subsubelem.text)\n",
    "            annotation_dict['bnboxes'].append(bnbox)\n",
    "\n",
    "    return annotation_dict"
   ]
  },
  {
   "cell_type": "code",
   "execution_count": 13,
   "metadata": {},
   "outputs": [],
   "source": [
    "# Find object class names and map to ids\n",
    "def class_names_to_id_map():\n",
    "    class_name_list = []\n",
    "\n",
    "    # Iterate through set annotations\n",
    "    for filename in os.listdir('openlogo/annotations'):\n",
    "        xml_file = os.path.join('openlogo/annotations', filename)\n",
    "        root = et.parse(xml_file).getroot()\n",
    "\n",
    "        # Add to class to list if needed\n",
    "        for elem in root:\n",
    "            if elem.tag == 'object':\n",
    "                for subelem in elem:\n",
    "                    if subelem.tag == 'name' and subelem.text not in class_name_list:\n",
    "                        class_name_list.append(subelem.text)\n",
    "\n",
    "    # Sort classes and save .txt\n",
    "    class_name_list.sort()\n",
    "    print(class_name_list, file=open('details/class-list.txt', 'w'))\n",
    "\n",
    "    class_name_id_map = {}\n",
    "    i = 0\n",
    "\n",
    "    # Iterate to assign ids\n",
    "    for class_name in class_name_list:\n",
    "        class_name_id_map[class_name] = i\n",
    "        i += 1\n",
    "\n",
    "    # Save map in .txt\n",
    "    print(class_name_id_map, file=open('details/class-id-map.txt', 'w'))\n",
    "\n",
    "    return class_name_id_map"
   ]
  },
  {
   "cell_type": "code",
   "execution_count": 7,
   "metadata": {},
   "outputs": [],
   "source": [
    "# Export extracted XML data in txt for yolo\n",
    "def export_for_yolo(class_name_id_map, annotation_dict):\n",
    "    print_objects = []\n",
    "    \n",
    "    for bnbox in annotation_dict['bnboxes']:\n",
    "        image_width = annotation_dict['size']['width']\n",
    "        image_height = annotation_dict['size']['height']\n",
    "\n",
    "        class_id = class_name_id_map[bnbox['class']]\n",
    "\n",
    "        # Normalize bnboxes\n",
    "        bnbox_x_center = ((bnbox['xmin'] + bnbox['xmax']) / 2) / image_width\n",
    "        bnbox_y_center = ((bnbox['ymin'] + bnbox['ymax']) / 2) / image_height\n",
    "        bnbox_width = (bnbox['xmax'] - bnbox['xmin']) / image_width\n",
    "        bnbox_height = (bnbox['ymax'] - bnbox['ymin']) / image_height\n",
    "\n",
    "        # Format and save to list\n",
    "        print_objects.append('{} {:.6f} {:.6f} {:.6f} {:.6f}'.format(class_id, bnbox_x_center, bnbox_y_center, bnbox_width, bnbox_height))\n",
    "\n",
    "    # Save formatted annotation to .txt\n",
    "    save_filename = os.path.join('dataset', os.path.splitext(annotation_dict['filename'])[0] + '.txt')\n",
    "    print('\\n'.join(print_objects), file=open(save_filename, 'w'))\n",
    "    "
   ]
  },
  {
   "cell_type": "code",
   "execution_count": 8,
   "metadata": {},
   "outputs": [],
   "source": [
    "# Read through class folder and move files\n",
    "def split_to_folders():\n",
    "\n",
    "     # Iterate through every class file\n",
    "     for filename in os.listdir('openlogo/ImageSets/class_sep'):\n",
    "          \n",
    "          # Get IDs from file\n",
    "          split = os.path.join('openlogo/ImageSets/class_sep', filename)\n",
    "          split_ids = open(split, 'r').read().split('\\n')\n",
    "          split_ids.pop()\n",
    "          split_type = filename.split(\"_\")[-1]\n",
    "\n",
    "          # Iterate through ID if test file\n",
    "          if split_type == 'test.txt':\n",
    "               for id in split_ids:\n",
    "                    txt_file = os.path.join('dataset/' + id + '.txt')\n",
    "                    jpg_file = os.path.join('openlogo/JPEGImages', id + '.jpg')\n",
    "                    \n",
    "                    shutil.move(txt_file, 'dataset/labels/test')\n",
    "                    shutil.move(jpg_file, 'dataset/image/test')\n",
    "          \n",
    "          # Iterate through ID if train file\n",
    "          elif split_type == 'train.txt':\n",
    "               i = 0\n",
    "               for id in split_ids:\n",
    "                    txt_file = os.path.join('dataset/' + id + '.txt')\n",
    "                    jpg_file = os.path.join('openlogo/JPEGImages', id + '.jpg')\n",
    "                    \n",
    "                    # Split 1/7 of test data into val set\n",
    "                    if i < math.ceil(len(split_ids) / 7):\n",
    "                         shutil.move(txt_file, 'dataset/labels/val')\n",
    "                         shutil.move(jpg_file, 'dataset/images/val')\n",
    "                         i += 1\n",
    "                    \n",
    "                    # Split rest into train set\n",
    "                    else:\n",
    "                         shutil.move(txt_file, 'dataset/labels/train')\n",
    "                         shutil.move(jpg_file, 'dataset/images/train')\n"
   ]
  },
  {
   "cell_type": "code",
   "execution_count": 9,
   "metadata": {},
   "outputs": [],
   "source": [
    "# Create directories \n",
    "os.mkdir('dataset')\n",
    "\n",
    "os.mkdir('dataset/images')\n",
    "os.mkdir('dataset/labels')\n",
    "\n",
    "os.mkdir('dataset/images/train')\n",
    "os.mkdir('dataset/images/val')\n",
    "os.mkdir('dataset/images/test')\n",
    "\n",
    "os.mkdir('dataset/labels/train')\n",
    "os.mkdir('dataset/labels/val')\n",
    "os.mkdir('dataset/labels/test')"
   ]
  },
  {
   "cell_type": "code",
   "execution_count": 14,
   "metadata": {},
   "outputs": [],
   "source": [
    "# Create map of classes to ID\n",
    "class_names_id_map = class_names_to_id_map()"
   ]
  },
  {
   "cell_type": "code",
   "execution_count": null,
   "metadata": {},
   "outputs": [],
   "source": [
    "# Generate yolo labels from each XML\n",
    "for filename in os.listdir('openlogo/annotations'):\n",
    "    data = extract_from_xml(os.path.join('openlogo/annotations', filename))\n",
    "    export_for_yolo(class_names_id_map, data)"
   ]
  },
  {
   "cell_type": "code",
   "execution_count": null,
   "metadata": {},
   "outputs": [],
   "source": [
    "# Move labels and images into split directories\n",
    "split_to_folders()"
   ]
  },
  {
   "cell_type": "code",
   "execution_count": 3,
   "metadata": {},
   "outputs": [],
   "source": [
    "# DESTRUCTIVE!\n",
    "# Remove leftover openlogo files\n",
    "# shutil.rmtree('openlogo')\n",
    "# shutil.rmtree('dataset')"
   ]
  }
 ],
 "metadata": {
  "kernelspec": {
   "display_name": "base",
   "language": "python",
   "name": "python3"
  },
  "language_info": {
   "codemirror_mode": {
    "name": "ipython",
    "version": 3
   },
   "file_extension": ".py",
   "mimetype": "text/x-python",
   "name": "python",
   "nbconvert_exporter": "python",
   "pygments_lexer": "ipython3",
   "version": "3.9.7"
  },
  "orig_nbformat": 4,
  "vscode": {
   "interpreter": {
    "hash": "74d000f1ff3c268724346f0c94a1e049e0d21134fbe9e5343fb48096b69fc59e"
   }
  }
 },
 "nbformat": 4,
 "nbformat_minor": 2
}
