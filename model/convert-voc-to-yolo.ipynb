{
 "cells": [
  {
   "attachments": {},
   "cell_type": "markdown",
   "metadata": {},
   "source": [
    "### **Preparing the [QMUL-OpenLogo](https://hangsu0730.github.io/qmul-openlogo/) Dataset for yolov5**\n",
    "\n",
    "This notebook should\n",
    "- Download the QMUL-OpenLogo dataset from Google Drive\n",
    "- Create `/datasets/openlogo` with\n",
    "    - yolo labels (.txt) in `/labels`\n",
    "    - images (.jpg) in `/images`\n",
    "    - classes and class splits (.txt) in `/details`\n",
    "    - train/val/test split (.txt)\n",
    "- Delete leftover files from download"
   ]
  },
  {
   "cell_type": "code",
   "execution_count": 3,
   "metadata": {},
   "outputs": [],
   "source": [
    "import xml.etree.ElementTree as et\n",
    "import os\n",
    "import shutil\n",
    "import math\n",
    "import tarfile\n",
    "import gdown"
   ]
  },
  {
   "cell_type": "code",
   "execution_count": 4,
   "metadata": {},
   "outputs": [
    {
     "name": "stderr",
     "output_type": "stream",
     "text": [
      "Downloading...\n",
      "From: https://drive.google.com/uc?id=1p1BWofDJOKXqCtO0JPT5VyuIPOsuxOuj\n",
      "To: c:\\Users\\Hang\\source\\repos\\SmartSee\\model\\openlogo.tar\n",
      "100%|██████████| 4.71G/4.71G [03:12<00:00, 24.5MB/s]\n"
     ]
    },
    {
     "data": {
      "text/plain": [
       "'openlogo.tar'"
      ]
     },
     "execution_count": 4,
     "metadata": {},
     "output_type": "execute_result"
    }
   ],
   "source": [
    "# Download openlogo.tar\n",
    "gdown.download(id='1p1BWofDJOKXqCtO0JPT5VyuIPOsuxOuj', output='openlogo.tar', quiet=False)"
   ]
  },
  {
   "cell_type": "code",
   "execution_count": 5,
   "metadata": {},
   "outputs": [],
   "source": [
    "# Extract openlogo.tar\n",
    "tarfile.open('openlogo.tar').extractall()\n",
    "os.remove('openlogo.tar')"
   ]
  },
  {
   "cell_type": "code",
   "execution_count": 6,
   "metadata": {},
   "outputs": [],
   "source": [
    "# Create directories \n",
    "os.mkdir('datasets')\n",
    "\n",
    "os.mkdir('datasets/openlogo')\n",
    "\n",
    "os.mkdir('datasets/openlogo/images')\n",
    "os.mkdir('datasets/openlogo/labels')\n",
    "os.mkdir('datasets/openlogo/details')"
   ]
  },
  {
   "cell_type": "code",
   "execution_count": 8,
   "metadata": {},
   "outputs": [],
   "source": [
    "# Create class name to id map\n",
    "# Initalize list to hold names\n",
    "class_names = []\n",
    "\n",
    "# Iterate through each XMLs\n",
    "for filename in os.listdir('openlogo/annotations'):\n",
    "    xml_file = os.path.join('openlogo/annotations', filename)\n",
    "    root = et.parse(xml_file).getroot()\n",
    "\n",
    "    # Get class name and add if needed\n",
    "    for elem in root:\n",
    "        if elem.tag == 'object':\n",
    "            for subelem in elem:\n",
    "                if subelem.tag == 'name' and subelem.text not in class_names:\n",
    "                    class_names.append(subelem.text)\n",
    "\n",
    "# Assign ids to classes\n",
    "class_names.sort()\n",
    "class_name_id_map = {}\n",
    "for i in range(len(class_names)):\n",
    "    class_name_id_map[class_names[i]] = i\n",
    "\n",
    "# Save list and map in .txt\n",
    "print(class_names, file=open('datasets/openlogo/details/class-list.txt', 'w'))\n",
    "print(class_name_id_map, file=open('datasets/openlogo/details/class-id-map.txt', 'w'))"
   ]
  },
  {
   "cell_type": "code",
   "execution_count": 9,
   "metadata": {},
   "outputs": [],
   "source": [
    "# Generate yolo labels from each XML\n",
    "# Iterate through each XML\n",
    "for filename in os.listdir('openlogo/annotations'):\n",
    "    xml_file = os.path.join('openlogo/annotations', filename)\n",
    "    root = et.parse(xml_file).getroot()\n",
    "\n",
    "    # Initialize dict to hold annotation data\n",
    "    voc_annotation = {}\n",
    "    voc_annotation['bnboxes'] = []\n",
    "\n",
    "    # Parse XML Tree\n",
    "    for elem in root:\n",
    "        \n",
    "        # Get file name\n",
    "        if elem.tag == 'filename':\n",
    "            voc_annotation['filename'] = elem.text\n",
    "\n",
    "        # Get image size\n",
    "        elif elem.tag == 'size':\n",
    "            image_size = {}\n",
    "            for subelem in elem:\n",
    "                image_size[subelem.tag] = int(subelem.text)\n",
    "            voc_annotation['size'] = image_size\n",
    "\n",
    "        # Get bounding box(es)\n",
    "        elif elem.tag == 'object':\n",
    "            bnbox = {}\n",
    "            for subelem in elem:\n",
    "                if subelem.tag == 'name':\n",
    "                    bnbox['class'] = subelem.text\n",
    "\n",
    "                elif subelem.tag == 'bndbox':\n",
    "                    for subsubelem in subelem:\n",
    "                        bnbox[subsubelem.tag] = int(subsubelem.text)\n",
    "            voc_annotation['bnboxes'].append(bnbox)\n",
    "\n",
    "    # Initialize list to hold yolo label\n",
    "    yolo_label = []\n",
    "\n",
    "    # Iterate through each annotation box\n",
    "    for bnbox in voc_annotation['bnboxes']:\n",
    "\n",
    "        # Normalize Pascal VOC info for yolo label\n",
    "        image_width = voc_annotation['size']['width']\n",
    "        image_height = voc_annotation['size']['height']\n",
    "\n",
    "        class_id = class_name_id_map[bnbox['class']]\n",
    "\n",
    "        bnbox_x_center = ((bnbox['xmin'] + bnbox['xmax']) / 2) / image_width\n",
    "        bnbox_y_center = ((bnbox['ymin'] + bnbox['ymax']) / 2) / image_height\n",
    "        bnbox_width = (bnbox['xmax'] - bnbox['xmin']) / image_width\n",
    "        bnbox_height = (bnbox['ymax'] - bnbox['ymin']) / image_height\n",
    "\n",
    "        # Save normalized info to list\n",
    "        yolo_label.append('{} {:.6f} {:.6f} {:.6f} {:.6f}'.format(class_id, bnbox_x_center, bnbox_y_center, bnbox_width, bnbox_height))\n",
    "\n",
    "    # Save formatted annotation to .txt\n",
    "    save_filename = os.path.splitext(voc_annotation['filename'])[0] + '.txt'\n",
    "    save_file = os.path.join('datasets/openlogo/labels', save_filename)\n",
    "    print('\\n'.join(yolo_label), file=open(save_file, 'w'))"
   ]
  },
  {
   "cell_type": "code",
   "execution_count": 10,
   "metadata": {},
   "outputs": [],
   "source": [
    "# Move images\n",
    "for filename in os.listdir('openlogo/JPEGImages',):\n",
    "    jpg_file = os.path.join('openlogo/JPEGImages', filename)\n",
    "    shutil.move(jpg_file, 'datasets/openlogo/images')"
   ]
  },
  {
   "cell_type": "code",
   "execution_count": 11,
   "metadata": {},
   "outputs": [],
   "source": [
    "# Split dataset into train/val/test\n",
    "# Remove excess class files\n",
    "excess_files = ['all_train.txt', 'all_test.txt', 'train.txt', 'test.txt']\n",
    "for filename in excess_files:\n",
    "    excess_file = os.path.join('openlogo/ImageSets/class_sep', filename)\n",
    "    os.remove(excess_file)\n",
    "\n",
    "# Initialize lists to hold dataset split\n",
    "train_ids = []\n",
    "val_ids = []\n",
    "test_ids = []\n",
    "\n",
    "# Iterate through every class file\n",
    "for filename in os.listdir('openlogo/ImageSets/class_sep'):\n",
    "    \n",
    "    # Get IDs from file\n",
    "    split_file = os.path.join('openlogo/ImageSets/class_sep', filename)\n",
    "    split_ids = open(split_file, 'r').read().split('\\n')\n",
    "    split_ids.pop()\n",
    "\n",
    "    # Get split type\n",
    "    split_type = filename.split(\"_\")[-1]\n",
    "\n",
    "    # Iterate through ID if test\n",
    "    if split_type == 'test.txt':\n",
    "\n",
    "        # Add each id to test split\n",
    "        for id in split_ids:\n",
    "            jpg_file = os.path.join('./labels', id + '.jpg')\n",
    "            test_ids.append(jpg_file)\n",
    "    \n",
    "    # Iterate through ID if train\n",
    "    elif split_type == 'train.txt':\n",
    "        for i in range(len(split_ids)):\n",
    "            jpg_file = os.path.join('./labels', split_ids[i] + '.jpg')\n",
    "            \n",
    "            # Add 1/7 of test data to val split\n",
    "            if i < math.ceil(len(split_ids) / 7):\n",
    "                val_ids.append(jpg_file)\n",
    "            \n",
    "            # Add rest to train split\n",
    "            else:\n",
    "                train_ids.append(jpg_file)\n",
    "\n",
    "# Create .txts\n",
    "print('\\n'.join(train_ids), file=open('datasets/openlogo/train.txt', 'w'))\n",
    "print('\\n'.join(val_ids), file=open('datasets/openlogo/val.txt', 'w'))\n",
    "print('\\n'.join(test_ids), file=open('datasets/openlogo/test.txt', 'w'))"
   ]
  },
  {
   "cell_type": "code",
   "execution_count": 12,
   "metadata": {},
   "outputs": [],
   "source": [
    "# DESTRUCTIVE: Cleanup\n",
    "# Move class split files\n",
    "shutil.move('openlogo/ImageSets/class_sep', 'datasets/openlogo/details')\n",
    "os.rename('datasets/openlogo/details/class_sep', 'datasets/openlogo/details/class-sep')\n",
    "\n",
    "# Remove leftover openlogo files\n",
    "shutil.rmtree('openlogo')\n",
    "\n",
    "# Remove dataset for reset\n",
    "# shutil.rmtree('datasets')"
   ]
  }
 ],
 "metadata": {
  "kernelspec": {
   "display_name": "cs231n",
   "language": "python",
   "name": "python3"
  },
  "language_info": {
   "codemirror_mode": {
    "name": "ipython",
    "version": 3
   },
   "file_extension": ".py",
   "mimetype": "text/x-python",
   "name": "python",
   "nbconvert_exporter": "python",
   "pygments_lexer": "ipython3",
   "version": "3.7.11"
  },
  "orig_nbformat": 4,
  "vscode": {
   "interpreter": {
    "hash": "ce1e2dc1913f4067280215715469665255d604b1ffc918ef8c9d65aee97a3e85"
   }
  }
 },
 "nbformat": 4,
 "nbformat_minor": 2
}
