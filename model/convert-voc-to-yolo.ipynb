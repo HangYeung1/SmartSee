{
 "cells": [
  {
   "cell_type": "code",
   "execution_count": 20,
   "metadata": {},
   "outputs": [],
   "source": [
    "import xml.etree.ElementTree as et\n",
    "import os\n",
    "import shutil"
   ]
  },
  {
   "cell_type": "code",
   "execution_count": 21,
   "metadata": {},
   "outputs": [],
   "source": [
    "def extract_from_xml(xml_file):\n",
    "    root = et.parse(xml_file).getroot()\n",
    "\n",
    "    # Initialize info dict\n",
    "    annotation_dict = {}\n",
    "    annotation_dict['bnboxes'] = []\n",
    "\n",
    "    # Parse XML Tree\n",
    "    for elem in root:\n",
    "        # Get file name\n",
    "        if elem.tag == 'filename':\n",
    "            annotation_dict['filename'] = elem.text\n",
    "\n",
    "        # Get image size\n",
    "        elif elem.tag == 'size':\n",
    "            image_size = {}\n",
    "            for subelem in elem:\n",
    "                image_size[subelem.tag] = int(subelem.text)\n",
    "            annotation_dict['size'] = image_size\n",
    "\n",
    "        # Add bounding box(es)\n",
    "        elif elem.tag == 'object':\n",
    "            bnbox = {}\n",
    "            for subelem in elem:\n",
    "                if subelem.tag == 'name':\n",
    "                    bnbox['class'] = subelem.text\n",
    "\n",
    "                elif subelem.tag == 'bndbox':\n",
    "                    for subsubelem in subelem:\n",
    "                        bnbox[subsubelem.tag] = int(subsubelem.text)\n",
    "            annotation_dict['bnboxes'].append(bnbox)\n",
    "\n",
    "    return annotation_dict"
   ]
  },
  {
   "cell_type": "code",
   "execution_count": 22,
   "metadata": {},
   "outputs": [],
   "source": [
    "# Find object class names and map to ids\n",
    "def class_names_to_id_map(annotations_directory, auxiliary_directory):\n",
    "    class_name_list = []\n",
    "\n",
    "    # Iterate through set directory\n",
    "    for filename in os.listdir(annotations_directory):\n",
    "        xml_file = os.path.join(annotations_directory, filename)\n",
    "        root = et.parse(xml_file).getroot()\n",
    "\n",
    "        # Add to class to list if needed\n",
    "        for elem in root:\n",
    "            if elem.tag == 'object':\n",
    "                for subelem in elem:\n",
    "                    if subelem.tag == 'name' and subelem.text not in class_name_list:\n",
    "                        class_name_list.append(subelem.text)\n",
    "\n",
    "    # Sort classes and save .txt\n",
    "    class_name_list.sort()\n",
    "    print('\\n'.join(class_name_list), file=open(\n",
    "        os.path.join(auxiliary_directory, \"classes.txt\"), 'w'))\n",
    "\n",
    "    class_name_id_map = {}\n",
    "    i = 0\n",
    "\n",
    "    # Iterate to assign ids\n",
    "    for class_name in class_name_list:\n",
    "        class_name_id_map[class_name] = i\n",
    "        i += 1\n",
    "\n",
    "    return class_name_id_map"
   ]
  },
  {
   "cell_type": "code",
   "execution_count": 23,
   "metadata": {},
   "outputs": [],
   "source": [
    "# Export extracted XML data in txt for yolo\n",
    "def export_for_yolo(class_name_id_map, annotation_dict, target_directory):\n",
    "    print_objects = []\n",
    "\n",
    "    for bnbox in annotation_dict['bnboxes']:\n",
    "        image_width = annotation_dict['size']['width']\n",
    "        image_height = annotation_dict['size']['height']\n",
    "\n",
    "        class_id = class_name_id_map[bnbox['class']]\n",
    "\n",
    "        # Normalize bnboxes\n",
    "        bnbox_x_center = ((bnbox['xmin'] + bnbox['xmax']) / 2) / image_width\n",
    "        bnbox_y_center = ((bnbox['ymin'] + bnbox['ymax']) / 2) / image_height\n",
    "        bnbox_width = (bnbox['xmax'] - bnbox['xmin']) / image_width\n",
    "        bnbox_height = (bnbox['ymax'] - bnbox['ymin']) / image_height\n",
    "\n",
    "        # Format and save to list\n",
    "        print_objects.append('{} {:.6f} {:.6f} {:.6f} {:.6f}'.format(\n",
    "            class_id, bnbox_x_center, bnbox_y_center, bnbox_width, bnbox_height))\n",
    "\n",
    "    # Save formatted annotation to .txt\n",
    "    save_filename = os.path.join(target_directory, os.path.splitext(\n",
    "        annotation_dict['filename'])[0] + '.txt')\n",
    "    print('\\n'.join(print_objects), file=open(save_filename, 'w'))"
   ]
  }
 ],
 "metadata": {
  "kernelspec": {
   "display_name": "base",
   "language": "python",
   "name": "python3"
  },
  "language_info": {
   "codemirror_mode": {
    "name": "ipython",
    "version": 3
   },
   "file_extension": ".py",
   "mimetype": "text/x-python",
   "name": "python",
   "nbconvert_exporter": "python",
   "pygments_lexer": "ipython3",
   "version": "3.9.7"
  },
  "orig_nbformat": 4,
  "vscode": {
   "interpreter": {
    "hash": "74d000f1ff3c268724346f0c94a1e049e0d21134fbe9e5343fb48096b69fc59e"
   }
  }
 },
 "nbformat": 4,
 "nbformat_minor": 2
}
