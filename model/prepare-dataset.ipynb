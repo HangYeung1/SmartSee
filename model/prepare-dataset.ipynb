{
 "cells": [
  {
   "attachments": {},
   "cell_type": "markdown",
   "metadata": {},
   "source": [
    "### **Preparing the [QMUL-OpenLogo](https://hangsu0730.github.io/qmul-openlogo/) Dataset for yolov5**\n",
    "\n",
    "This notebook should\n",
    "- Download the QMUL-OpenLogo dataset from Google Drive\n",
    "- Create `/datasets/openlogo` with\n",
    "    - yolo labels (.txt) in `/labels`\n",
    "    - images (.jpg) in `/images`\n",
    "    - classes and split (.txt) in `/details`\n",
    "- Delete leftover files from download"
   ]
  },
  {
   "cell_type": "code",
   "execution_count": null,
   "metadata": {},
   "outputs": [],
   "source": [
    "import xml.etree.ElementTree as et\n",
    "import os\n",
    "import shutil\n",
    "import math\n",
    "import tarfile\n",
    "import gdown"
   ]
  },
  {
   "cell_type": "code",
   "execution_count": null,
   "metadata": {},
   "outputs": [],
   "source": [
    "# Download openlogo.tar\n",
    "gdown.download(id='1p1BWofDJOKXqCtO0JPT5VyuIPOsuxOuj', output='openlogo.tar', quiet=False)"
   ]
  },
  {
   "cell_type": "code",
   "execution_count": null,
   "metadata": {},
   "outputs": [],
   "source": [
    "# Extract openlogo.tar\n",
    "tarfile.open('openlogo.tar').extractall()\n",
    "os.remove('openlogo.tar')"
   ]
  },
  {
   "cell_type": "code",
   "execution_count": null,
   "metadata": {},
   "outputs": [],
   "source": [
    "# Create directories \n",
    "os.mkdir('datasets')\n",
    "\n",
    "os.mkdir('datasets/openlogo')\n",
    "\n",
    "os.mkdir('datasets/openlogo/images')\n",
    "os.mkdir('datasets/openlogo/labels')\n",
    "os.mkdir('datasets/openlogo/details')\n",
    "\n",
    "os.mkdir('datasets/openlogo/images/train')\n",
    "os.mkdir('datasets/openlogo/images/test')\n",
    "\n",
    "os.mkdir('datasets/openlogo/labels/train')\n",
    "os.mkdir('datasets/openlogo/labels/test')"
   ]
  },
  {
   "cell_type": "code",
   "execution_count": null,
   "metadata": {},
   "outputs": [],
   "source": [
    "# Create class name to id map\n",
    "# Initalize list to hold names\n",
    "class_names = []\n",
    "\n",
    "# Iterate through each XMLs\n",
    "for filename in os.listdir('openlogo/annotations'):\n",
    "    xml_file = os.path.join('openlogo/annotations', filename)\n",
    "    root = et.parse(xml_file).getroot()\n",
    "\n",
    "    # Get class name and add if needed\n",
    "    for elem in root:\n",
    "        if elem.tag == 'object':\n",
    "            for subelem in elem:\n",
    "                if subelem.tag == 'name' and subelem.text not in class_names:\n",
    "                    class_names.append(subelem.text)\n",
    "\n",
    "# Assign ids to classes\n",
    "class_names.sort()\n",
    "class_name_id_map = {}\n",
    "for i in range(len(class_names)):\n",
    "    class_name_id_map[class_names[i]] = i\n",
    "\n",
    "# Save list in .txt\n",
    "print('\\n'.join(class_names), file=open('datasets/openlogo/details/class-list.txt', 'w'))\n",
    "\n",
    "# Save map in .txt\n",
    "formatted_map = []\n",
    "for i in range(len(class_names)):\n",
    "    formatted_map.append('{}: {}'.format(i, class_names[i]))\n",
    "print('\\n'.join(formatted_map), file=open('datasets/openlogo/details/class-id-map.txt', 'w'))"
   ]
  },
  {
   "cell_type": "code",
   "execution_count": null,
   "metadata": {},
   "outputs": [],
   "source": [
    "# Generate yolo labels from each XML\n",
    "# Iterate through each XML\n",
    "for filename in os.listdir('openlogo/annotations'):\n",
    "    xml_file = os.path.join('openlogo/annotations', filename)\n",
    "    root = et.parse(xml_file).getroot()\n",
    "\n",
    "    # Initialize dict to hold annotation data\n",
    "    voc_annotation = {}\n",
    "    voc_annotation['bnboxes'] = []\n",
    "\n",
    "    # Parse XML Tree\n",
    "    for elem in root:\n",
    "        \n",
    "        # Get file name\n",
    "        if elem.tag == 'filename':\n",
    "            voc_annotation['filename'] = elem.text\n",
    "\n",
    "        # Get image size\n",
    "        elif elem.tag == 'size':\n",
    "            image_size = {}\n",
    "            for subelem in elem:\n",
    "                image_size[subelem.tag] = int(subelem.text)\n",
    "            voc_annotation['size'] = image_size\n",
    "\n",
    "        # Get bounding box(es)\n",
    "        elif elem.tag == 'object':\n",
    "            bnbox = {}\n",
    "            for subelem in elem:\n",
    "                if subelem.tag == 'name':\n",
    "                    bnbox['class'] = subelem.text\n",
    "\n",
    "                elif subelem.tag == 'bndbox':\n",
    "                    for subsubelem in subelem:\n",
    "                        bnbox[subsubelem.tag] = int(subsubelem.text)\n",
    "            voc_annotation['bnboxes'].append(bnbox)\n",
    "\n",
    "    # Initialize list to hold yolo label\n",
    "    yolo_label = []\n",
    "\n",
    "    # Iterate through each annotation box\n",
    "    for bnbox in voc_annotation['bnboxes']:\n",
    "\n",
    "        # Normalize Pascal VOC info for yolo label\n",
    "        image_width = voc_annotation['size']['width']\n",
    "        image_height = voc_annotation['size']['height']\n",
    "\n",
    "        class_id = class_name_id_map[bnbox['class']]\n",
    "\n",
    "        bnbox_x_center = ((bnbox['xmin'] + bnbox['xmax']) / 2) / image_width\n",
    "        bnbox_y_center = ((bnbox['ymin'] + bnbox['ymax']) / 2) / image_height\n",
    "        bnbox_width = (bnbox['xmax'] - bnbox['xmin']) / image_width\n",
    "        bnbox_height = (bnbox['ymax'] - bnbox['ymin']) / image_height\n",
    "\n",
    "        # Save normalized info to list\n",
    "        yolo_label.append('{} {:.6f} {:.6f} {:.6f} {:.6f}'.format(class_id, bnbox_x_center, bnbox_y_center, bnbox_width, bnbox_height))\n",
    "\n",
    "    # Save formatted annotation to .txt\n",
    "    save_filename = os.path.splitext(voc_annotation['filename'])[0] + '.txt'\n",
    "    save_file = os.path.join('datasets/openlogo/labels', save_filename)\n",
    "    print('\\n'.join(yolo_label), file=open(save_file, 'w'))"
   ]
  },
  {
   "cell_type": "code",
   "execution_count": null,
   "metadata": {},
   "outputs": [],
   "source": [
    "# Split dataset into train/val/test\n",
    "# Remove excess class files\n",
    "excess_files = ['all_train.txt', 'all_test.txt', 'train.txt', 'test.txt']\n",
    "for filename in excess_files:\n",
    "    excess_file = os.path.join('openlogo/ImageSets/class_sep', filename)\n",
    "    os.remove(excess_file)\n",
    "\n",
    "# Initialize lists to hold dataset split\n",
    "train_ids = []\n",
    "test_ids = []\n",
    "\n",
    "# Iterate through every class file\n",
    "for filename in os.listdir('openlogo/ImageSets/class_sep'):\n",
    "    \n",
    "    # Get IDs from file\n",
    "    split_file = os.path.join('openlogo/ImageSets/class_sep', filename)\n",
    "    split_ids = open(split_file, 'r').read().split('\\n')\n",
    "    split_ids.pop()\n",
    "\n",
    "    # Get split type\n",
    "    split_type = filename.split(\"_\")[-1]\n",
    "\n",
    "    # Add IDs to corresponding split\n",
    "    if split_type == 'train.txt':\n",
    "        for id in split_ids:\n",
    "            train_ids.append(id)\n",
    "\n",
    "    elif split_type == 'test.txt':\n",
    "        for id in split_ids:\n",
    "            test_ids.append(id)\n",
    "\n",
    "# Create .txts\n",
    "print('\\n'.join(train_ids), file=open('datasets/openlogo/details/train-ids.txt', 'w'))\n",
    "print('\\n'.join(test_ids), file=open('datasets/openlogo/details/test-ids.txt', 'w'))"
   ]
  },
  {
   "cell_type": "code",
   "execution_count": null,
   "metadata": {},
   "outputs": [],
   "source": [
    "# Move images and labels to corresponding folder\n",
    "for id in train_ids:\n",
    "    txt_file = os.path.join('datasets/openlogo/labels', id + '.txt')\n",
    "    jpg_file = os.path.join('openlogo/JPEGImages', id + '.jpg')\n",
    "    shutil.move(txt_file, 'datasets/openlogo/labels/train')\n",
    "    shutil.move(jpg_file, 'datasets/openlogo/images/train')\n",
    "\n",
    "for id in test_ids:\n",
    "    txt_file = os.path.join('datasets/openlogo/labels', id + '.txt')\n",
    "    jpg_file = os.path.join('openlogo/JPEGImages', id + '.jpg')\n",
    "    shutil.move(txt_file, 'datasets/openlogo/labels/test')\n",
    "    shutil.move(jpg_file, 'datasets/openlogo/images/test')"
   ]
  },
  {
   "cell_type": "code",
   "execution_count": null,
   "metadata": {},
   "outputs": [],
   "source": [
    "# DESTRUCTIVE: Cleanup\n",
    "# Move class split files\n",
    "shutil.move('openlogo/ImageSets/class_sep', 'datasets/openlogo/details')\n",
    "\n",
    "# Remove leftover openlogo files\n",
    "shutil.rmtree('openlogo')"
   ]
  },
  {
   "cell_type": "code",
   "execution_count": null,
   "metadata": {},
   "outputs": [],
   "source": [
    "# Remove dataset for reset\n",
    "# shutil.rmtree('datasets')"
   ]
  }
 ],
 "metadata": {
  "kernelspec": {
   "display_name": "cs231n",
   "language": "python",
   "name": "python3"
  },
  "language_info": {
   "codemirror_mode": {
    "name": "ipython",
    "version": 3
   },
   "file_extension": ".py",
   "mimetype": "text/x-python",
   "name": "python",
   "nbconvert_exporter": "python",
   "pygments_lexer": "ipython3",
   "version": "3.7.11"
  },
  "orig_nbformat": 4,
  "vscode": {
   "interpreter": {
    "hash": "ce1e2dc1913f4067280215715469665255d604b1ffc918ef8c9d65aee97a3e85"
   }
  }
 },
 "nbformat": 4,
 "nbformat_minor": 2
}
